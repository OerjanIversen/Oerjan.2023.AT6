{
 "cells": [
  {
   "cell_type": "code",
   "execution_count": 1,
   "id": "c5fb615c",
   "metadata": {},
   "outputs": [
    {
     "name": "stdout",
     "output_type": "stream",
     "text": [
      "Enter some happy integers BUT remember TO: separate with commas:\n",
      "1, 5, abc\n",
      "Valid integers: [1, 5]\n"
     ]
    }
   ],
   "source": [
    "class DataValidator:\n",
    "\n",
    "    def validate_inputs(self, input_list):\n",
    "        \n",
    "        valid_integers = []\n",
    "        \n",
    "        for user_input in input_list:\n",
    "            if self.is_positive_integer(user_input):\n",
    "                valid_integers.append(int(user_input))\n",
    "                \n",
    "        return valid_integers\n",
    "\n",
    "    def is_positive_integer(self, value):\n",
    "        \n",
    "        try:\n",
    "            num = int(value)\n",
    "            return num > 0\n",
    "        except ValueError:\n",
    "            return False\n",
    "        \n",
    "validator = DataValidator()\n",
    "\n",
    "print(\"Enter some happy integers and other stuff BUT remember TO separate with commas:\")\n",
    "user_input = input()\n",
    "\n",
    "inputs = user_input.split(\",\")\n",
    "\n",
    "valid_ints = validator.validate_inputs(inputs)\n",
    "\n",
    "print(f\"Valid integers: {valid_ints}\")"
   ]
  },
  {
   "cell_type": "code",
   "execution_count": null,
   "id": "d7d0c0f8",
   "metadata": {},
   "outputs": [],
   "source": []
  }
 ],
 "metadata": {
  "kernelspec": {
   "display_name": "Python 3 (ipykernel)",
   "language": "python",
   "name": "python3"
  },
  "language_info": {
   "codemirror_mode": {
    "name": "ipython",
    "version": 3
   },
   "file_extension": ".py",
   "mimetype": "text/x-python",
   "name": "python",
   "nbconvert_exporter": "python",
   "pygments_lexer": "ipython3",
   "version": "3.9.12"
  }
 },
 "nbformat": 4,
 "nbformat_minor": 5
}
